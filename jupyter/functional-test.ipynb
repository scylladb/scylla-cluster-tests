{
 "cells": [
  {
   "cell_type": "markdown",
   "metadata": {},
   "source": [
    "Jupyter notebook example to play with functional tests on k8s backend\n"
   ]
  },
  {
   "cell_type": "code",
   "execution_count": null,
   "metadata": {},
   "outputs": [],
   "source": [
    "import os\n",
    "\n",
    "os.environ[\"BUILD_USER_EMAIL\"] = \"sct.tester@scylladb.com\"\n",
    "os.environ[\"BUILD_ID\"] = \"123\"\n",
    "os.environ[\"SCT_CLUSTER_BACKEND\"] = \"k8s-local-kind\"\n",
    "os.environ[\"SCT_CONFIG_FILES\"] = \"test-cases/scylla-operator/functional.yaml\"\n",
    "os.environ[\"SCT_SCYLLA_VERSION\"] = \"2022.2.0\"\n",
    "os.environ[\"SCT_K8S_USE_CHAOS_MESH\"] = \"True\"\n",
    "os.environ[\"SCT_REGION_NAME\"] = \"eu-west-1\"\n",
    "os.environ[\"SCT_USE_MGMT\"] = \"True\"\n",
    "os.environ[\"SCT_N_DB_NODES\"] = \"3\"\n",
    "os.environ[\"SCT_N_LOADERS\"] = \"1\"\n",
    "os.environ[\"SCT_N_MONITORS_NODES\"] = \"0\"\n",
    "assert os.environ[\"BUILD_USER_EMAIL\"] != \"sct.tester@scylladb.com\", (\n",
    "    \"please use your own email so resources are tracked properly\"\n",
    ")\n",
    "\n",
    "# logging configuration, for jupyter only (sct logs are intact)\n",
    "import logging\n",
    "\n",
    "LOGGER = logging.getLogger(__name__)\n",
    "LOGGER.setLevel(logging.DEBUG)\n",
    "consoleHandler = logging.StreamHandler()\n",
    "consoleHandler.setLevel(logging.DEBUG)\n",
    "formatter = logging.Formatter(\"%(asctime)s - %(name)s - %(levelname)s - %(message)s\")\n",
    "consoleHandler.setFormatter(formatter)\n",
    "LOGGER.addHandler(consoleHandler)"
   ]
  },
  {
   "cell_type": "code",
   "execution_count": null,
   "metadata": {},
   "outputs": [],
   "source": [
    "import os\n",
    "\n",
    "from functional_tests.scylla_operator.libs.auxiliary import ScyllaOperatorFunctionalClusterTester\n",
    "from sdcm import sct_abs_path\n",
    "\n",
    "os.chdir(sct_abs_path(relative_filename=\"\"))\n",
    "tester_inst = ScyllaOperatorFunctionalClusterTester()\n",
    "tester_inst.setUpClass()\n",
    "tester_inst.setUp()"
   ]
  },
  {
   "cell_type": "markdown",
   "metadata": {},
   "source": [
    "Now to recover to original state and get cluster,can iterate over `db_cluster` fixture, which will yield a `ScyllaPodCluster` object:"
   ]
  },
  {
   "cell_type": "code",
   "execution_count": null,
   "metadata": {},
   "outputs": [],
   "source": [
    "from functional_tests.scylla_operator.conftest import _bring_cluster_back_to_original_state\n",
    "\n",
    "\n",
    "def db_cluster(tester: ScyllaOperatorFunctionalClusterTester):\n",
    "    if not tester.healthy_flag:\n",
    "        raise RuntimeError(\"cluster is not healthy, skipping rest of the tests\")\n",
    "\n",
    "    with tester.db_cluster.scylla_config_map() as scylla_config_map:\n",
    "        original_scylla_config_map = scylla_config_map\n",
    "    original_scylla_cluster_spec = tester.db_cluster.get_scylla_cluster_plain_value(\"/spec\")\n",
    "\n",
    "    if dataset_name := tester.db_cluster.params.get(\"k8s_functional_test_dataset\"):\n",
    "        tester.db_cluster.wait_for_nodes_up_and_normal(\n",
    "            nodes=tester.db_cluster.nodes, verification_node=tester.db_cluster.nodes[0]\n",
    "        )\n",
    "        tester.db_cluster.wait_for_init(node_list=tester.db_cluster.nodes, wait_for_db_logs=True)\n",
    "        tester.db_cluster.prefill_cluster(dataset_name)\n",
    "    yield tester.db_cluster\n",
    "\n",
    "    if tester.healthy_flag:\n",
    "        _bring_cluster_back_to_original_state(\n",
    "            tester, config_map=original_scylla_config_map, original_scylla_cluster_spec=original_scylla_cluster_spec\n",
    "        )\n",
    "\n",
    "\n",
    "cluster = db_cluster(tester_inst).__next__()"
   ]
  },
  {
   "cell_type": "markdown",
   "metadata": {},
   "source": [
    "Play with it like in provision-test, or run some functional test:\n"
   ]
  },
  {
   "cell_type": "code",
   "execution_count": null,
   "metadata": {},
   "outputs": [],
   "source": [
    "from functional_tests.scylla_operator.test_functional import test_listen_address\n",
    "\n",
    "test_listen_address(cluster)"
   ]
  },
  {
   "cell_type": "code",
   "execution_count": null,
   "metadata": {},
   "outputs": [],
   "source": []
  },
  {
   "cell_type": "code",
   "execution_count": null,
   "metadata": {},
   "outputs": [],
   "source": []
  }
 ],
 "metadata": {
  "kernelspec": {
   "display_name": "Python 3 (ipykernel)",
   "language": "python",
   "name": "python3"
  },
  "language_info": {
   "codemirror_mode": {
    "name": "ipython",
    "version": 3
   },
   "file_extension": ".py",
   "mimetype": "text/x-python",
   "name": "python",
   "nbconvert_exporter": "python",
   "pygments_lexer": "ipython3",
   "version": "3.10.9"
  }
 },
 "nbformat": 4,
 "nbformat_minor": 1
}
