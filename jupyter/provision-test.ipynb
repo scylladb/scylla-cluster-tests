{
 "cells": [
  {
   "cell_type": "markdown",
   "metadata": {},
   "source": [
    "provision-test longevity for interactive play with sct cluster"
   ]
  },
  {
   "cell_type": "code",
   "execution_count": null,
   "metadata": {},
   "outputs": [],
   "source": [
    "import os\n",
    "\n",
    "os.environ[\"BUILD_USER_EMAIL\"] = \"sct.tester@scylladb.com\"\n",
    "os.environ[\"BUILD_ID\"] = \"123\"\n",
    "os.environ[\"SCT_CLUSTER_BACKEND\"] = \"aws\"\n",
    "os.environ[\"SCT_CONFIG_FILES\"] = \"test-cases/PR-provision-test.yaml\"\n",
    "os.environ[\"SCT_SCYLLA_VERSION\"] = \"2022.2.0\"\n",
    "os.environ[\"SCT_REGION_NAME\"] = \"eu-west-1\"\n",
    "os.environ[\"SCT_USE_MGMT\"] = \"False\"\n",
    "os.environ[\"SCT_N_DB_NODES\"] = \"3\"\n",
    "os.environ[\"SCT_N_LOADERS\"] = \"1\"\n",
    "os.environ[\"SCT_N_MONITORS_NODES\"] = \"0\"\n",
    "assert os.environ[\"BUILD_USER_EMAIL\"] != \"sct.tester@scylladb.com\", (\n",
    "    \"please use your own email so resources are tracked properly\"\n",
    ")\n",
    "\n",
    "# logging configuration, for jupyter only (sct logs are intact)\n",
    "import logging\n",
    "\n",
    "LOGGER = logging.getLogger(__name__)\n",
    "LOGGER.setLevel(logging.DEBUG)\n",
    "consoleHandler = logging.StreamHandler()\n",
    "consoleHandler.setLevel(logging.DEBUG)\n",
    "formatter = logging.Formatter(\"%(asctime)s - %(name)s - %(levelname)s - %(message)s\")\n",
    "consoleHandler.setFormatter(formatter)\n",
    "LOGGER.addHandler(consoleHandler)"
   ]
  },
  {
   "cell_type": "code",
   "execution_count": null,
   "metadata": {},
   "outputs": [],
   "source": [
    "from longevity_test import LongevityTest\n",
    "import os\n",
    "\n",
    "from sdcm import sct_abs_path\n",
    "\n",
    "os.chdir(sct_abs_path(relative_filename=\"\"))\n",
    "tester_inst = LongevityTest()\n",
    "tester_inst.setUpClass()\n",
    "tester_inst.setUp()\n",
    "cluster = tester_inst.db_cluster"
   ]
  },
  {
   "cell_type": "markdown",
   "metadata": {},
   "source": [
    "Now it is possible to play interactively with cluster. E.g.:\n",
    "\n",
    "```\n",
    "res = cluster.nodes[0].remoter.run(\"nodetool status\")\n",
    "res.stdout\n",
    "```\n",
    "Remember, imported code can't be reimported - when changed, need to reload jupyter kernel.\n",
    "A way to workaround it, use inheritance and override methods. E.g.:\n",
    "```\n",
    "from sdcm.nemesis import Nemesis\n",
    "\n",
    "\n",
    "class DemoNemesis(Nemesis):\n",
    "    disruptive = True\n",
    "    networking = False\n",
    "    run_with_gemini = False\n",
    "\n",
    "    def disrupt(self):\n",
    "        self._disrupt_demo()\n",
    "\n",
    "    def _disrupt_demo(self):\n",
    "        print(\"starting demo nemesis\")\n",
    "\n",
    "    def update_stats(self, disrupt, status=True, data=None):\n",
    "        if not data:\n",
    "            data = {}\n",
    "        key = {True: 'runs', False: 'failures'}\n",
    "        if disrupt not in self.stats:\n",
    "            self.stats[disrupt] = {'runs': [], 'failures': [], 'cnt': 0}\n",
    "        self.stats[disrupt][key[status]].append(data)\n",
    "        self.stats[disrupt]['cnt'] += 1\n",
    "        self.log.debug('Update nemesis info with: %s', data)\n",
    "        if self.tester.create_stats:\n",
    "            self.tester.update({'nemesis': self.stats})\n",
    "        if self.es_publisher:\n",
    "            self.es_publisher.publish(disrupt_name=disrupt, status=status, data=data)\n",
    "\n",
    "demo_nemesis = DemoNemesis(tester_inst, termination_event=None)\n",
    "demo_nemesis.disrupt()\n",
    "```\n"
   ]
  },
  {
   "cell_type": "markdown",
   "metadata": {},
   "source": [
    "To be able to play cluster object methods interactively, just create function that uses `self` as first argument and assign `cluster` to it. When having working example, copy-paste method to cluster with proper indent. E.g.:\n",
    "```\n",
    "from typing import List\n",
    "\n",
    "\n",
    "def get_non_system_ks_cf_list(self, db_node, filter_out_table_with_counter=False, filter_out_mv=False, filter_empty_tables=True) -> List[str]:\n",
    "    ks_cf_list = self.get_any_ks_cf_list(db_node, filter_out_table_with_counter=filter_out_table_with_counter,\n",
    "                                       filter_out_mv=filter_out_mv, filter_empty_tables=filter_empty_tables,\n",
    "                                       filter_out_system=True, filter_out_cdc_log_tables=True)\n",
    "    return [\"some_non_system_table\"] + ks_cf_list\n",
    "\n",
    "get_non_system_ks_cf_list(cluster, cluster.nodes[0])\n",
    "```"
   ]
  },
  {
   "cell_type": "code",
   "execution_count": null,
   "metadata": {},
   "outputs": [],
   "source": []
  }
 ],
 "metadata": {
  "kernelspec": {
   "display_name": "Python 3 (ipykernel)",
   "language": "python",
   "name": "python3"
  },
  "language_info": {
   "codemirror_mode": {
    "name": "ipython",
    "version": 3
   },
   "file_extension": ".py",
   "mimetype": "text/x-python",
   "name": "python",
   "nbconvert_exporter": "python",
   "pygments_lexer": "ipython3",
   "version": "3.10.9"
  }
 },
 "nbformat": 4,
 "nbformat_minor": 1
}
